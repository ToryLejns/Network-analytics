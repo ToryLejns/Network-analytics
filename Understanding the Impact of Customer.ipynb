{
 "cells": [
  {
   "cell_type": "code",
   "id": "initial_id",
   "metadata": {
    "collapsed": true,
    "ExecuteTime": {
     "end_time": "2025-02-04T23:44:41.105136Z",
     "start_time": "2025-02-04T23:44:40.668727Z"
    }
   },
   "source": [
    "import pandas as pd\n",
    "import numpy as np\n",
    "import matplotlib.pyplot as plt\n",
    "import seaborn as sns\n",
    "from scipy.stats import chi2_contingency, ttest_ind\n",
    "from sklearn.model_selection import train_test_split\n",
    "from sklearn.ensemble import RandomForestClassifier\n",
    "from sklearn.metrics import accuracy_score, classification_report, confusion_matrix"
   ],
   "outputs": [],
   "execution_count": 1
  },
  {
   "metadata": {
    "ExecuteTime": {
     "end_time": "2025-02-04T23:45:37.662438Z",
     "start_time": "2025-02-04T23:45:37.646472Z"
    }
   },
   "cell_type": "code",
   "source": "df = pd.read_csv(\"E-commerce Customer Behavior - Sheet1.csv\")",
   "id": "8959fe300dfa91b2",
   "outputs": [],
   "execution_count": 3
  },
  {
   "metadata": {
    "ExecuteTime": {
     "end_time": "2025-02-04T23:45:42.579669Z",
     "start_time": "2025-02-04T23:45:42.569170Z"
    }
   },
   "cell_type": "code",
   "source": "df.head()",
   "id": "71912fa48ff7cb",
   "outputs": [
    {
     "data": {
      "text/plain": [
       "   Customer ID  Gender  Age           City Membership Type  Total Spend  \\\n",
       "0          101  Female   29       New York            Gold      1120.20   \n",
       "1          102    Male   34    Los Angeles          Silver       780.50   \n",
       "2          103  Female   43        Chicago          Bronze       510.75   \n",
       "3          104    Male   30  San Francisco            Gold      1480.30   \n",
       "4          105    Male   27          Miami          Silver       720.40   \n",
       "\n",
       "   Items Purchased  Average Rating  Discount Applied  \\\n",
       "0               14             4.6              True   \n",
       "1               11             4.1             False   \n",
       "2                9             3.4              True   \n",
       "3               19             4.7             False   \n",
       "4               13             4.0              True   \n",
       "\n",
       "   Days Since Last Purchase Satisfaction Level  \n",
       "0                        25          Satisfied  \n",
       "1                        18            Neutral  \n",
       "2                        42        Unsatisfied  \n",
       "3                        12          Satisfied  \n",
       "4                        55        Unsatisfied  "
      ],
      "text/html": [
       "<div>\n",
       "<style scoped>\n",
       "    .dataframe tbody tr th:only-of-type {\n",
       "        vertical-align: middle;\n",
       "    }\n",
       "\n",
       "    .dataframe tbody tr th {\n",
       "        vertical-align: top;\n",
       "    }\n",
       "\n",
       "    .dataframe thead th {\n",
       "        text-align: right;\n",
       "    }\n",
       "</style>\n",
       "<table border=\"1\" class=\"dataframe\">\n",
       "  <thead>\n",
       "    <tr style=\"text-align: right;\">\n",
       "      <th></th>\n",
       "      <th>Customer ID</th>\n",
       "      <th>Gender</th>\n",
       "      <th>Age</th>\n",
       "      <th>City</th>\n",
       "      <th>Membership Type</th>\n",
       "      <th>Total Spend</th>\n",
       "      <th>Items Purchased</th>\n",
       "      <th>Average Rating</th>\n",
       "      <th>Discount Applied</th>\n",
       "      <th>Days Since Last Purchase</th>\n",
       "      <th>Satisfaction Level</th>\n",
       "    </tr>\n",
       "  </thead>\n",
       "  <tbody>\n",
       "    <tr>\n",
       "      <th>0</th>\n",
       "      <td>101</td>\n",
       "      <td>Female</td>\n",
       "      <td>29</td>\n",
       "      <td>New York</td>\n",
       "      <td>Gold</td>\n",
       "      <td>1120.20</td>\n",
       "      <td>14</td>\n",
       "      <td>4.6</td>\n",
       "      <td>True</td>\n",
       "      <td>25</td>\n",
       "      <td>Satisfied</td>\n",
       "    </tr>\n",
       "    <tr>\n",
       "      <th>1</th>\n",
       "      <td>102</td>\n",
       "      <td>Male</td>\n",
       "      <td>34</td>\n",
       "      <td>Los Angeles</td>\n",
       "      <td>Silver</td>\n",
       "      <td>780.50</td>\n",
       "      <td>11</td>\n",
       "      <td>4.1</td>\n",
       "      <td>False</td>\n",
       "      <td>18</td>\n",
       "      <td>Neutral</td>\n",
       "    </tr>\n",
       "    <tr>\n",
       "      <th>2</th>\n",
       "      <td>103</td>\n",
       "      <td>Female</td>\n",
       "      <td>43</td>\n",
       "      <td>Chicago</td>\n",
       "      <td>Bronze</td>\n",
       "      <td>510.75</td>\n",
       "      <td>9</td>\n",
       "      <td>3.4</td>\n",
       "      <td>True</td>\n",
       "      <td>42</td>\n",
       "      <td>Unsatisfied</td>\n",
       "    </tr>\n",
       "    <tr>\n",
       "      <th>3</th>\n",
       "      <td>104</td>\n",
       "      <td>Male</td>\n",
       "      <td>30</td>\n",
       "      <td>San Francisco</td>\n",
       "      <td>Gold</td>\n",
       "      <td>1480.30</td>\n",
       "      <td>19</td>\n",
       "      <td>4.7</td>\n",
       "      <td>False</td>\n",
       "      <td>12</td>\n",
       "      <td>Satisfied</td>\n",
       "    </tr>\n",
       "    <tr>\n",
       "      <th>4</th>\n",
       "      <td>105</td>\n",
       "      <td>Male</td>\n",
       "      <td>27</td>\n",
       "      <td>Miami</td>\n",
       "      <td>Silver</td>\n",
       "      <td>720.40</td>\n",
       "      <td>13</td>\n",
       "      <td>4.0</td>\n",
       "      <td>True</td>\n",
       "      <td>55</td>\n",
       "      <td>Unsatisfied</td>\n",
       "    </tr>\n",
       "  </tbody>\n",
       "</table>\n",
       "</div>"
      ]
     },
     "execution_count": 4,
     "metadata": {},
     "output_type": "execute_result"
    }
   ],
   "execution_count": 4
  },
  {
   "metadata": {
    "ExecuteTime": {
     "end_time": "2025-02-04T23:46:10.537543Z",
     "start_time": "2025-02-04T23:46:10.532873Z"
    }
   },
   "cell_type": "code",
   "source": "print(df.isnull().sum())",
   "id": "9002cd31c912cc6f",
   "outputs": [
    {
     "name": "stdout",
     "output_type": "stream",
     "text": [
      "Customer ID                 0\n",
      "Gender                      0\n",
      "Age                         0\n",
      "City                        0\n",
      "Membership Type             0\n",
      "Total Spend                 0\n",
      "Items Purchased             0\n",
      "Average Rating              0\n",
      "Discount Applied            0\n",
      "Days Since Last Purchase    0\n",
      "Satisfaction Level          2\n",
      "dtype: int64\n"
     ]
    }
   ],
   "execution_count": 5
  },
  {
   "metadata": {
    "ExecuteTime": {
     "end_time": "2025-02-04T23:47:47.975241Z",
     "start_time": "2025-02-04T23:47:47.964145Z"
    }
   },
   "cell_type": "code",
   "source": [
    "df = df.dropna(subset=[\"Satisfaction Level\"])\n",
    "print(df.isnull().sum())"
   ],
   "id": "43602dc68314daf0",
   "outputs": [
    {
     "name": "stdout",
     "output_type": "stream",
     "text": [
      "Customer ID                 0\n",
      "Gender                      0\n",
      "Age                         0\n",
      "City                        0\n",
      "Membership Type             0\n",
      "Total Spend                 0\n",
      "Items Purchased             0\n",
      "Average Rating              0\n",
      "Discount Applied            0\n",
      "Days Since Last Purchase    0\n",
      "Satisfaction Level          0\n",
      "dtype: int64\n"
     ]
    }
   ],
   "execution_count": 9
  },
  {
   "metadata": {
    "ExecuteTime": {
     "end_time": "2025-02-04T23:53:05.546729Z",
     "start_time": "2025-02-04T23:53:05.543075Z"
    }
   },
   "cell_type": "code",
   "source": [
    "satisfaction_mapping = {\"Unsatisfied\": 0, \"Neutral\": 1, \"Satisfied\": 2}\n",
    "df[\"Satisfaction Level\"] = df[\"Satisfaction Level\"].map(satisfaction_mapping)"
   ],
   "id": "9a55053132c98cef",
   "outputs": [],
   "execution_count": 11
  },
  {
   "metadata": {
    "ExecuteTime": {
     "end_time": "2025-02-04T23:53:11.759252Z",
     "start_time": "2025-02-04T23:53:11.755123Z"
    }
   },
   "cell_type": "code",
   "source": [
    "membership_mapping = {\"Bronze\": 1, \"Silver\": 2, \"Gold\": 3}\n",
    "df[\"Membership Type\"] = df[\"Membership Type\"].map(membership_mapping)"
   ],
   "id": "1d1a85df3593734d",
   "outputs": [],
   "execution_count": 12
  },
  {
   "metadata": {
    "ExecuteTime": {
     "end_time": "2025-02-04T23:53:21.772933Z",
     "start_time": "2025-02-04T23:53:21.769901Z"
    }
   },
   "cell_type": "code",
   "source": "df[\"Discount Applied\"] = df[\"Discount Applied\"].astype(int)",
   "id": "1fc3b97520594274",
   "outputs": [],
   "execution_count": 13
  },
  {
   "metadata": {
    "ExecuteTime": {
     "end_time": "2025-02-04T23:53:38.085341Z",
     "start_time": "2025-02-04T23:53:37.950499Z"
    }
   },
   "cell_type": "code",
   "source": [
    "plt.figure(figsize=(8, 5))\n",
    "sns.countplot(x=\"Satisfaction Level\", data=df, palette=\"coolwarm\")\n",
    "plt.title(\"Distribution of Customer Satisfaction Levels\")\n",
    "plt.xlabel(\"Satisfaction Level (0=Unsatisfied, 1=Neutral, 2=Satisfied)\")\n",
    "plt.ylabel(\"Number of Customers\")\n",
    "plt.show()"
   ],
   "id": "1120393de600302a",
   "outputs": [
    {
     "name": "stderr",
     "output_type": "stream",
     "text": [
      "C:\\Users\\ToryLinux\\AppData\\Local\\Temp\\ipykernel_22640\\2415191327.py:2: FutureWarning: \n",
      "\n",
      "Passing `palette` without assigning `hue` is deprecated and will be removed in v0.14.0. Assign the `x` variable to `hue` and set `legend=False` for the same effect.\n",
      "\n",
      "  sns.countplot(x=\"Satisfaction Level\", data=df, palette=\"coolwarm\")\n"
     ]
    },
    {
     "data": {
      "text/plain": [
       "<Figure size 800x500 with 1 Axes>"
      ],
      "image/png": "[encoded data removed]"
     },
     "metadata": {},
     "output_type": "display_data"
    }
   ],
   "execution_count": 14
  },
  {
   "metadata": {
    "ExecuteTime": {
     "end_time": "2025-02-04T23:54:16.485021Z",
     "start_time": "2025-02-04T23:54:16.392402Z"
    }
   },
   "cell_type": "code",
   "source": [
    "plt.figure(figsize=(8, 5))\n",
    "sns.boxplot(x=\"Satisfaction Level\", y=\"Total Spend\", data=df, palette=\"coolwarm\")\n",
    "plt.title(\"Total Spend vs Satisfaction Level\")\n",
    "plt.xlabel(\"Satisfaction Level (0=Unsatisfied, 1=Neutral, 2=Satisfied)\")\n",
    "plt.ylabel(\"Total Spend ($)\")\n",
    "plt.show()"
   ],
   "id": "30a500d491c25c60",
   "outputs": [
    {
     "name": "stderr",
     "output_type": "stream",
     "text": [
      "C:\\Users\\ToryLinux\\AppData\\Local\\Temp\\ipykernel_22640\\1207267528.py:2: FutureWarning: \n",
      "\n",
      "Passing `palette` without assigning `hue` is deprecated and will be removed in v0.14.0. Assign the `x` variable to `hue` and set `legend=False` for the same effect.\n",
      "\n",
      "  sns.boxplot(x=\"Satisfaction Level\", y=\"Total Spend\", data=df, palette=\"coolwarm\")\n"
     ]
    },
    {
     "data": {
      "text/plain": [
       "<Figure size 800x500 with 1 Axes>"
      ],
      "image/png": "[encoded data removed]"
     },
     "metadata": {},
     "output_type": "display_data"
    }
   ],
   "execution_count": 15
  },
  {
   "metadata": {
    "ExecuteTime": {
     "end_time": "2025-02-05T00:00:32.294944Z",
     "start_time": "2025-02-05T00:00:32.288237Z"
    }
   },
   "cell_type": "code",
   "source": [
    "contingency_table = pd.crosstab(df[\"Discount Applied\"], df[\"Satisfaction Level\"])\n",
    "chi2, p, dof, expected = chi2_contingency(contingency_table)\n",
    "\n",
    "print(f\"Corrected Chi-Square p-value: {p:.50f}\")"
   ],
   "id": "54f260572e995e18",
   "outputs": [
    {
     "name": "stdout",
     "output_type": "stream",
     "text": [
      "Corrected Chi-Square p-value: 0.00000000000000000000000000000000000000000000000031\n"
     ]
    }
   ],
   "execution_count": 19
  },
  {
   "metadata": {},
   "cell_type": "markdown",
   "source": "**************** EXTREMELY HIGH SIGNIFICANCE ****************",
   "id": "6529333460cab5d5"
  },
  {
   "metadata": {
    "ExecuteTime": {
     "end_time": "2025-02-05T00:03:05.490289Z",
     "start_time": "2025-02-05T00:03:05.406968Z"
    }
   },
   "cell_type": "code",
   "source": [
    "plt.figure(figsize=(8, 5))\n",
    "sns.boxplot(x=\"Membership Type\", y=\"Total Spend\", data=df, palette=\"viridis\")\n",
    "plt.title(\"Total Spend vs Membership Type\")\n",
    "plt.xlabel(\"Membership Type (1=Bronze, 2=Silver, 3=Gold)\")\n",
    "plt.ylabel(\"Total Spend ($)\")\n",
    "plt.show()"
   ],
   "id": "b049c98067717e53",
   "outputs": [
    {
     "name": "stderr",
     "output_type": "stream",
     "text": [
      "C:\\Users\\ToryLinux\\AppData\\Local\\Temp\\ipykernel_22640\\3199804731.py:2: FutureWarning: \n",
      "\n",
      "Passing `palette` without assigning `hue` is deprecated and will be removed in v0.14.0. Assign the `x` variable to `hue` and set `legend=False` for the same effect.\n",
      "\n",
      "  sns.boxplot(x=\"Membership Type\", y=\"Total Spend\", data=df, palette=\"viridis\")\n"
     ]
    },
    {
     "data": {
      "text/plain": [
       "<Figure size 800x500 with 1 Axes>"
      ],
      "image/png": "[encoded data removed]"
     },
     "metadata": {},
     "output_type": "display_data"
    }
   ],
   "execution_count": 20
  },
  {
   "metadata": {
    "ExecuteTime": {
     "end_time": "2025-02-05T00:03:40.664610Z",
     "start_time": "2025-02-05T00:03:40.658386Z"
    }
   },
   "cell_type": "code",
   "source": [
    "repeat_customers = df[df[\"Days Since Last Purchase\"] < 30]\n",
    "non_repeat_customers = df[df[\"Days Since Last Purchase\"] >= 30]\n",
    "\n",
    "t_stat, p_value = ttest_ind(repeat_customers[\"Total Spend\"], non_repeat_customers[\"Total Spend\"], equal_var=False)\n",
    "print(f\"T-Test p-value: {p_value:.50f}\")"
   ],
   "id": "e559f3137c20ab86",
   "outputs": [
    {
     "name": "stdout",
     "output_type": "stream",
     "text": [
      "T-Test p-value: 0.00000000000000000000000000064269605733374500479349\n"
     ]
    }
   ],
   "execution_count": 22
  },
  {
   "metadata": {},
   "cell_type": "markdown",
   "source": "***************** VERY HIGH SIGNIFICANCE *****************",
   "id": "efe91bf6d7dd2e82"
  },
  {
   "metadata": {
    "ExecuteTime": {
     "end_time": "2025-02-05T00:04:58.696249Z",
     "start_time": "2025-02-05T00:04:58.690745Z"
    }
   },
   "cell_type": "code",
   "source": [
    "df[\"Is Loyal\"] = (df[\"Days Since Last Purchase\"] < 30).astype(int)\n",
    "\n",
    "features = df[[\"Age\", \"Total Spend\", \"Items Purchased\", \"Average Rating\", \"Discount Applied\", \"Membership Type\"]]\n",
    "labels = df[\"Is Loyal\"]"
   ],
   "id": "25f1984c64ab4a91",
   "outputs": [],
   "execution_count": 23
  },
  {
   "metadata": {
    "ExecuteTime": {
     "end_time": "2025-02-05T00:05:33.732500Z",
     "start_time": "2025-02-05T00:05:33.641601Z"
    }
   },
   "cell_type": "code",
   "source": [
    "X_train, X_test, y_train, y_test = train_test_split(features, labels, test_size=0.2, random_state=42)\n",
    "\n",
    "clf = RandomForestClassifier(n_estimators=100, random_state=42)\n",
    "clf.fit(X_train, y_train)\n",
    "\n",
    "y_pred = clf.predict(X_test)\n",
    "print(f\"Accuracy: {accuracy_score(y_test, y_pred):.5%}\")\n",
    "print(classification_report(y_test, y_pred))"
   ],
   "id": "9098b047a7a115c4",
   "outputs": [
    {
     "name": "stdout",
     "output_type": "stream",
     "text": [
      "Accuracy: 92.85714%\n",
      "              precision    recall  f1-score   support\n",
      "\n",
      "           0       0.86      0.90      0.88        21\n",
      "           1       0.96      0.94      0.95        49\n",
      "\n",
      "    accuracy                           0.93        70\n",
      "   macro avg       0.91      0.92      0.92        70\n",
      "weighted avg       0.93      0.93      0.93        70\n",
      "\n"
     ]
    }
   ],
   "execution_count": 26
  },
  {
   "metadata": {},
   "cell_type": "code",
   "outputs": [],
   "execution_count": null,
   "source": "",
   "id": "4f955c3b4b46184c"
  }
 ],
 "metadata": {
  "kernelspec": {
   "display_name": "Python 3",
   "language": "python",
   "name": "python3"
  },
  "language_info": {
   "codemirror_mode": {
    "name": "ipython",
    "version": 2
   },
   "file_extension": ".py",
   "mimetype": "text/x-python",
   "name": "python",
   "nbconvert_exporter": "python",
   "pygments_lexer": "ipython2",
   "version": "2.7.6"
  }
 },
 "nbformat": 4,
 "nbformat_minor": 5
}
